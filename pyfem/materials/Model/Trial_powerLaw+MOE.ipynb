{
 "cells": [
  {
   "cell_type": "code",
   "execution_count": 1,
   "id": "15736631-c0a4-4542-9695-aacbf32039b8",
   "metadata": {},
   "outputs": [],
   "source": [
    "import pickle\n",
    "import numpy as np\n",
    "import sys\n",
    "import copy\n",
    "import os\n",
    "import matplotlib.pyplot as plt\n",
    "import glob\n",
    "import torch\n",
    "from model import MixtureOfExperts"
   ]
  },
  {
   "cell_type": "markdown",
   "id": "da41e3bb-b262-4239-9feb-168d5f3d293b",
   "metadata": {},
   "source": [
    "'vmJ2'        (MPa)     : [0.119132960099, 299.985430264],\n",
    "'temperature' (K)       : [600.0690046472204, 1099.9901302093344],\n",
    "'evm'         (-)       : [0.0, 0.0499999986721],\n",
    "'rhoc'        (1/m^2)   : [4669.9511535360325, 8461801410123.313],\n",
    "'rhow'        (1/m^2)   : [4406641771830.477, 11999567054170.322],\n",
    "'flux'        (dpa/s)   : [1.018454806316354e-09, 9.998075715064236e-07]"
   ]
  },
  {
   "cell_type": "markdown",
   "id": "a417eda8-34ab-4491-a21a-1357ed16c77e",
   "metadata": {},
   "source": [
    "### Power Law Creep test"
   ]
  },
  {
   "cell_type": "code",
   "execution_count": 2,
   "id": "ac756c63-fe85-4ba2-a37c-58fd449321d1",
   "metadata": {},
   "outputs": [
    {
     "name": "stdout",
     "output_type": "stream",
     "text": [
      "1.416037867352623e-20\n"
     ]
    }
   ],
   "source": [
    "'''Qp = 285e3\n",
    "R = 8.3144\n",
    "T = 750\n",
    "A = np.exp(-Qp/(R*T))\n",
    "print(A)'''"
   ]
  },
  {
   "cell_type": "markdown",
   "id": "1522e0b2-c42c-49ee-aa8a-e343728d0ad6",
   "metadata": {},
   "source": [
    "### MOE trial"
   ]
  },
  {
   "cell_type": "code",
   "execution_count": 3,
   "id": "008bb118-5d91-4b4b-9a38-f4a724c5637e",
   "metadata": {},
   "outputs": [],
   "source": [
    "'''vmJ2 = np.array([[1958.079, 43084.12, 37411.73, 41915.966, 42606.191]])\n",
    "evmtot = np.array([[0.0949182, 0.061701, 0.06170184, 0.06170184, 0.227853]])''"
   ]
  },
  {
   "cell_type": "code",
   "execution_count": 4,
   "id": "2deae3c7-f1c7-4b4b-9c8d-a3a1dd22c43c",
   "metadata": {},
   "outputs": [
    {
     "data": {
      "text/plain": [
       "(1, 5)"
      ]
     },
     "execution_count": 4,
     "metadata": {},
     "output_type": "execute_result"
    }
   ],
   "source": [
    "#vmJ2.shape"
   ]
  },
  {
   "cell_type": "code",
   "execution_count": 5,
   "id": "e7a1fd73-55f6-4195-93ca-bd18f5399134",
   "metadata": {},
   "outputs": [
    {
     "data": {
      "text/plain": [
       "MixtureOfExperts(\n",
       "  (gate): SoftmaxGate(\n",
       "    (linear_gate): LinearHN(\n",
       "      (hn): MLP(\n",
       "        (sequential): Sequential(\n",
       "          (0): Linear(in_features=6, out_features=128, bias=True)\n",
       "          (1): LayerNorm((128,), eps=1e-05, elementwise_affine=True)\n",
       "          (2): SiLU()\n",
       "          (3): Dropout(p=0.5, inplace=False)\n",
       "          (4): Linear(in_features=128, out_features=128, bias=True)\n",
       "          (5): LayerNorm((128,), eps=1e-05, elementwise_affine=True)\n",
       "          (6): SiLU()\n",
       "          (7): Dropout(p=0.5, inplace=False)\n",
       "          (8): Linear(in_features=128, out_features=128, bias=True)\n",
       "          (9): LayerNorm((128,), eps=1e-05, elementwise_affine=True)\n",
       "          (10): SiLU()\n",
       "          (11): Dropout(p=0.5, inplace=False)\n",
       "          (12): Linear(in_features=128, out_features=448, bias=True)\n",
       "        )\n",
       "      )\n",
       "      (linear): Linear(in_features=6, out_features=64, bias=True)\n",
       "    )\n",
       "    (softmax): Softmax(dim=-1)\n",
       "  )\n",
       "  (experts): ModuleList(\n",
       "    (0-63): 64 x LinearHN(\n",
       "      (hn): MLP(\n",
       "        (sequential): Sequential(\n",
       "          (0): Linear(in_features=6, out_features=32, bias=True)\n",
       "          (1): LayerNorm((32,), eps=1e-05, elementwise_affine=True)\n",
       "          (2): SiLU()\n",
       "          (3): Dropout(p=0.5, inplace=False)\n",
       "          (4): Linear(in_features=32, out_features=32, bias=True)\n",
       "          (5): LayerNorm((32,), eps=1e-05, elementwise_affine=True)\n",
       "          (6): SiLU()\n",
       "          (7): Dropout(p=0.5, inplace=False)\n",
       "          (8): Linear(in_features=32, out_features=32, bias=True)\n",
       "          (9): LayerNorm((32,), eps=1e-05, elementwise_affine=True)\n",
       "          (10): SiLU()\n",
       "          (11): Dropout(p=0.5, inplace=False)\n",
       "          (12): Linear(in_features=32, out_features=21, bias=True)\n",
       "        )\n",
       "      )\n",
       "      (linear): Linear(in_features=6, out_features=3, bias=True)\n",
       "    )\n",
       "  )\n",
       ")"
      ]
     },
     "execution_count": 5,
     "metadata": {},
     "output_type": "execute_result"
    }
   ],
   "source": [
    "## loading pytorch model\n",
    "\n",
    "model_name = f\"model_experiment_5_1101443/checkpoint_savetime_1101443_batchsize_16384_numexperts_64.pt\"\n",
    "device = 'cpu'\n",
    "num_experts = int( model_name.split('_')[-1][:-3] )\n",
    "num_vars = 6\n",
    "gate_features = 128\n",
    "expert_features = 32\n",
    "out_features = 3\n",
    "model = MixtureOfExperts(num_vars, gate_features, expert_features, out_features, num_experts)\n",
    "model.load_state_dict(torch.load(model_name, map_location=torch.device(device)))\n",
    "model.to(torch.double)\n",
    "model.to(device)\n",
    "model.eval()"
   ]
  },
  {
   "cell_type": "code",
   "execution_count": 6,
   "id": "2eea539b-a9a7-4b6a-be28-ecb14f653bbe",
   "metadata": {},
   "outputs": [],
   "source": [
    "with open(f\"transform.pickle\",\"rb\") as fhandle:\n",
    "    data_transform = pickle.load(fhandle)\n",
    "\n",
    "with open(f\"init_data.pickle\",\"rb\") as fhandle:\n",
    "    init_data = pickle.load(fhandle)"
   ]
  },
  {
   "cell_type": "code",
   "execution_count": 34,
   "id": "c1f3b350-840b-4355-ad9e-ee0109230bcf",
   "metadata": {},
   "outputs": [],
   "source": [
    "## surrogate eval and jacobian wrapper, for pointwise evaluations\n",
    "\n",
    "class ModelWrapper:\n",
    "\n",
    "    def __init__(self, model, data_transform, init_data):\n",
    "        self.data_transform = data_transform\n",
    "        self.model = model\n",
    "        self.init_data = init_data\n",
    "        \n",
    "        self.ninputs = self.data_transform['input'].length\n",
    "        self.noutputs = self.data_transform['output'].length\n",
    "\n",
    "    def eval(self, x: np.array):\n",
    "        # x is (n,)\n",
    "        x_extended = np.array([x])\n",
    "        z = torch.tensor(self.data_transform['input'].transform(x_extended), dtype=torch.double)         \n",
    "        # eval surrogates              \n",
    "        with torch.no_grad():\n",
    "            outs  = self.model(z)\n",
    "        return self.data_transform['output'].inverse_transform(outs.numpy()).reshape((-1,))\n",
    "\n",
    "    def eval_jacobian(self, x: np.array):\n",
    "        '''\n",
    "        pytorch jacobian modified from\n",
    "        https://gist.github.com/sbarratt/37356c46ad1350d4c30aefbd488a4faa\n",
    "        '''\n",
    "        # x is (n,)\n",
    "\n",
    "        x_extended = np.array([x])\n",
    "        Jin = self.data_transform['input'].forward_derivative(x_extended)\n",
    "        z = torch.tensor( self.data_transform['input'].transform(x_extended), dtype=torch.double).squeeze()\n",
    "        z = z.repeat(self.noutputs, 1)\n",
    "        z.requires_grad_(True)\n",
    "        y = self.model(z)\n",
    "        y.backward(torch.eye(self.noutputs))\n",
    "        Jmod = z.grad.data.numpy()\n",
    "        Jout = data_transform['output'].inverse_derivative( y[0].detach().numpy()[None,:] )\n",
    "        J = Jout[:,None]*(Jmod * Jin) # (3,6) jacobian for all 6 inputs\n",
    "        return J # (3,3) jacobian for just the state variables \n",
    "\n",
    "    def eval_func_wrapper(self, t, x):\n",
    "        '''\n",
    "        wrapper for scipy.integrate.solve_ivp\n",
    "        '''\n",
    "        return self.eval(x)\n",
    "\n",
    "    def eval_jacobian_wrapper(self, t, x):\n",
    "        '''\n",
    "        wrapper for scipy.integrate.solve_ivp\n",
    "        '''\n",
    "        return self.eval_jacobian(x)\n",
    "    "
   ]
  },
  {
   "cell_type": "code",
   "execution_count": 35,
   "id": "e9e57fd1-9cf4-4a19-8d5e-e217282cb985",
   "metadata": {},
   "outputs": [],
   "source": [
    "set1 = np.array([0.119132960099, 600.0690046472204, 0.0, 4669.9511535360325, 4406641771830.477, 1.018454806316354e-09])\n",
    "mod = ModelWrapper(model, data_transform, init_data)"
   ]
  },
  {
   "cell_type": "code",
   "execution_count": 36,
   "id": "8afc881b-7c0c-4d96-8b6a-74f3c5fc8bf6",
   "metadata": {},
   "outputs": [
    {
     "data": {
      "text/plain": [
       "array([3.97202342e-12, 8.20187736e+17, 7.71206023e+09])"
      ]
     },
     "execution_count": 36,
     "metadata": {},
     "output_type": "execute_result"
    }
   ],
   "source": [
    "mod.eval(set1)"
   ]
  },
  {
   "cell_type": "code",
   "execution_count": 37,
   "id": "12ddf046-97cc-46bb-ae1b-a66aa86d9d43",
   "metadata": {},
   "outputs": [],
   "source": [
    "J = mod.eval_jacobian(set1)"
   ]
  },
  {
   "cell_type": "code",
   "execution_count": 38,
   "id": "432c49e5-5c52-467f-81f3-3d57ce1b4d0a",
   "metadata": {},
   "outputs": [
    {
     "data": {
      "text/plain": [
       "array([[ 2.24482257e-13,  4.24460160e-14, -4.89871179e+07,\n",
       "        -5.19649410e-17,  2.52122352e-24, -7.84955382e-07],\n",
       "       [-9.07675887e+16, -3.49805562e+16,  1.33511787e+37,\n",
       "        -2.68843945e+14, -4.28873367e+06,  8.44347114e+22],\n",
       "       [-8.73003754e+08, -3.40282550e+08,  1.50101387e+29,\n",
       "        -7.52144798e+05, -4.19036889e-02,  2.36718701e+15]])"
      ]
     },
     "execution_count": 38,
     "metadata": {},
     "output_type": "execute_result"
    }
   ],
   "source": [
    "#J"
   ]
  },
  {
   "cell_type": "code",
   "execution_count": 40,
   "id": "42ca321f-0025-4ef6-b1ae-5911d86d1466",
   "metadata": {},
   "outputs": [],
   "source": [
    "from scipy.optimize import approx_fprime\n",
    "\n",
    "#set1alt = np.array([[0.119132960099, 600.0690046472204, 0.0, 4669.9511535360325, 4406641771830.477, 1.018454806316354e-09]])\n",
    "\n",
    "#Jfd = approx_fprime(set1, mod.eval, epsilon = 1e-30)"
   ]
  },
  {
   "cell_type": "code",
   "execution_count": 41,
   "id": "3edde333-fc26-4b42-a8c3-09118fdcf7a1",
   "metadata": {},
   "outputs": [
    {
     "data": {
      "text/plain": [
       "array([[ 2.24479723e-13,  4.24460178e-14, -4.89829863e+07,\n",
       "        -5.19650533e-17,  2.52122338e-24, -7.82860842e-07],\n",
       "       [-9.07682067e+16, -3.49805482e+16,  1.33585920e+37,\n",
       "        -2.68843848e+14, -4.28873261e+06,  8.43904299e+22],\n",
       "       [-8.72999104e+08, -3.40282471e+08,  1.50086403e+29,\n",
       "        -7.52143415e+05, -4.19036791e-02,  2.37041693e+15]])"
      ]
     },
     "execution_count": 41,
     "metadata": {},
     "output_type": "execute_result"
    }
   ],
   "source": [
    "#Jfd"
   ]
  },
  {
   "cell_type": "code",
   "execution_count": 42,
   "id": "34491d26-0f57-4617-bc58-6ed5b76365e0",
   "metadata": {},
   "outputs": [
    {
     "data": {
      "text/plain": [
       "array([ 2.24482257e-13, -9.07675887e+16, -8.73003754e+08])"
      ]
     },
     "execution_count": 42,
     "metadata": {},
     "output_type": "execute_result"
    }
   ],
   "source": [
    "#J[:,0]"
   ]
  },
  {
   "cell_type": "code",
   "execution_count": 43,
   "id": "d7033e86-9868-4c9c-b207-2c72341ea701",
   "metadata": {},
   "outputs": [
    {
     "data": {
      "text/plain": [
       "array([ 2.24479723e-13, -9.07682067e+16, -8.72999104e+08])"
      ]
     },
     "execution_count": 43,
     "metadata": {},
     "output_type": "execute_result"
    }
   ],
   "source": [
    "#Jfd[:,0]"
   ]
  },
  {
   "cell_type": "code",
   "execution_count": null,
   "id": "ec0548fe-177f-4de1-a261-3494bdf6c686",
   "metadata": {},
   "outputs": [],
   "source": []
  }
 ],
 "metadata": {
  "kernelspec": {
   "display_name": "Python 3 (ipykernel)",
   "language": "python",
   "name": "python3"
  },
  "language_info": {
   "codemirror_mode": {
    "name": "ipython",
    "version": 3
   },
   "file_extension": ".py",
   "mimetype": "text/x-python",
   "name": "python",
   "nbconvert_exporter": "python",
   "pygments_lexer": "ipython3",
   "version": "3.12.2"
  }
 },
 "nbformat": 4,
 "nbformat_minor": 5
}
